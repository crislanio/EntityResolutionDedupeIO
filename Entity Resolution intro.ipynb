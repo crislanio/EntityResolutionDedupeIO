{
 "cells": [
  {
   "cell_type": "markdown",
   "metadata": {},
   "source": [
    "Instale o dedupe\n",
    "- pip install unicode\n",
    "- pip install future\n",
    "- pip install dedupe"
   ]
  },
  {
   "cell_type": "markdown",
   "metadata": {},
   "source": [
    "# Passo 1: Leitura dos dados"
   ]
  },
  {
   "cell_type": "code",
   "execution_count": 1,
   "metadata": {},
   "outputs": [],
   "source": [
    "import pandas as pd\n",
    "import numpy as np"
   ]
  },
  {
   "cell_type": "code",
   "execution_count": 2,
   "metadata": {},
   "outputs": [],
   "source": [
    "import warnings; warnings.simplefilter('ignore')\n",
    "import logging; logging.disable(level=logging.INFO)"
   ]
  },
  {
   "cell_type": "code",
   "execution_count": 3,
   "metadata": {},
   "outputs": [
    {
     "data": {
      "text/plain": [
       "(881, 6)"
      ]
     },
     "execution_count": 3,
     "metadata": {},
     "output_type": "execute_result"
    }
   ],
   "source": [
    "df =pd.read_csv(\"restaurant.csv\",skip_blank_lines=True )\n",
    "df.shape"
   ]
  },
  {
   "cell_type": "code",
   "execution_count": 4,
   "metadata": {},
   "outputs": [
    {
     "data": {
      "text/html": [
       "<div>\n",
       "<style scoped>\n",
       "    .dataframe tbody tr th:only-of-type {\n",
       "        vertical-align: middle;\n",
       "    }\n",
       "\n",
       "    .dataframe tbody tr th {\n",
       "        vertical-align: top;\n",
       "    }\n",
       "\n",
       "    .dataframe thead th {\n",
       "        text-align: right;\n",
       "    }\n",
       "</style>\n",
       "<table border=\"1\" class=\"dataframe\">\n",
       "  <thead>\n",
       "    <tr style=\"text-align: right;\">\n",
       "      <th></th>\n",
       "      <th>name</th>\n",
       "      <th>addr</th>\n",
       "      <th>city</th>\n",
       "      <th>phone</th>\n",
       "      <th>type</th>\n",
       "      <th>cluster</th>\n",
       "    </tr>\n",
       "  </thead>\n",
       "  <tbody>\n",
       "    <tr>\n",
       "      <th>0</th>\n",
       "      <td>arnie morton's of chicago</td>\n",
       "      <td>435 s. la cienega blv.</td>\n",
       "      <td>los angeles</td>\n",
       "      <td>310/246-1501</td>\n",
       "      <td>american</td>\n",
       "      <td>0</td>\n",
       "    </tr>\n",
       "    <tr>\n",
       "      <th>1</th>\n",
       "      <td>arnie morton's of chicago</td>\n",
       "      <td>435 s. la cienega blvd.</td>\n",
       "      <td>los angeles</td>\n",
       "      <td>310-246-1501</td>\n",
       "      <td>steakhouses</td>\n",
       "      <td>0</td>\n",
       "    </tr>\n",
       "    <tr>\n",
       "      <th>2</th>\n",
       "      <td>arnie morton</td>\n",
       "      <td>435 s. la cienega boulevard</td>\n",
       "      <td>los angeles</td>\n",
       "      <td>310-246-1501</td>\n",
       "      <td>steakhouses</td>\n",
       "      <td>0</td>\n",
       "    </tr>\n",
       "    <tr>\n",
       "      <th>3</th>\n",
       "      <td>art's delicatessen</td>\n",
       "      <td>12224 ventura blvd.</td>\n",
       "      <td>studio city</td>\n",
       "      <td>818/762-1221</td>\n",
       "      <td>american</td>\n",
       "      <td>1</td>\n",
       "    </tr>\n",
       "    <tr>\n",
       "      <th>4</th>\n",
       "      <td>art's deli</td>\n",
       "      <td>12224 ventura blvd.</td>\n",
       "      <td>studio city</td>\n",
       "      <td>818-762-1221</td>\n",
       "      <td>delis</td>\n",
       "      <td>1</td>\n",
       "    </tr>\n",
       "  </tbody>\n",
       "</table>\n",
       "</div>"
      ],
      "text/plain": [
       "                        name                         addr         city  \\\n",
       "0  arnie morton's of chicago       435 s. la cienega blv.  los angeles   \n",
       "1  arnie morton's of chicago      435 s. la cienega blvd.  los angeles   \n",
       "2               arnie morton  435 s. la cienega boulevard  los angeles   \n",
       "3         art's delicatessen          12224 ventura blvd.  studio city   \n",
       "4                 art's deli          12224 ventura blvd.  studio city   \n",
       "\n",
       "          phone         type  cluster  \n",
       "0  310/246-1501     american        0  \n",
       "1  310-246-1501  steakhouses        0  \n",
       "2  310-246-1501  steakhouses        0  \n",
       "3  818/762-1221     american        1  \n",
       "4  818-762-1221        delis        1  "
      ]
     },
     "execution_count": 4,
     "metadata": {},
     "output_type": "execute_result"
    }
   ],
   "source": [
    "df.head()"
   ]
  },
  {
   "cell_type": "markdown",
   "metadata": {},
   "source": [
    "### Vamos remover a coluna cluster para realizar a clusterização dos dados"
   ]
  },
  {
   "cell_type": "code",
   "execution_count": 5,
   "metadata": {},
   "outputs": [],
   "source": [
    "df.drop(columns=['cluster'], inplace=True)"
   ]
  },
  {
   "cell_type": "markdown",
   "metadata": {},
   "source": [
    "### Descrição dos dados"
   ]
  },
  {
   "cell_type": "code",
   "execution_count": 6,
   "metadata": {},
   "outputs": [
    {
     "name": "stdout",
     "output_type": "stream",
     "text": [
      "<class 'pandas.core.frame.DataFrame'>\n",
      "RangeIndex: 881 entries, 0 to 880\n",
      "Data columns (total 5 columns):\n",
      "name     881 non-null object\n",
      "addr     881 non-null object\n",
      "city     881 non-null object\n",
      "phone    881 non-null object\n",
      "type     880 non-null object\n",
      "dtypes: object(5)\n",
      "memory usage: 34.5+ KB\n"
     ]
    }
   ],
   "source": [
    "df.info(verbose=True, null_counts=True)"
   ]
  },
  {
   "cell_type": "code",
   "execution_count": 7,
   "metadata": {},
   "outputs": [],
   "source": [
    "df = df.fillna('')"
   ]
  },
  {
   "cell_type": "markdown",
   "metadata": {},
   "source": [
    "# Passo 2: Limpeza dos dados"
   ]
  },
  {
   "cell_type": "markdown",
   "metadata": {},
   "source": [
    "### Limpeza dos dados"
   ]
  },
  {
   "cell_type": "code",
   "execution_count": 8,
   "metadata": {},
   "outputs": [
    {
     "name": "stdout",
     "output_type": "stream",
     "text": [
      "Remove irrelevant separators:\n",
      "Remove multi-spaces:\n"
     ]
    },
    {
     "data": {
      "text/html": [
       "<div>\n",
       "<style scoped>\n",
       "    .dataframe tbody tr th:only-of-type {\n",
       "        vertical-align: middle;\n",
       "    }\n",
       "\n",
       "    .dataframe tbody tr th {\n",
       "        vertical-align: top;\n",
       "    }\n",
       "\n",
       "    .dataframe thead th {\n",
       "        text-align: right;\n",
       "    }\n",
       "</style>\n",
       "<table border=\"1\" class=\"dataframe\">\n",
       "  <thead>\n",
       "    <tr style=\"text-align: right;\">\n",
       "      <th></th>\n",
       "      <th>name</th>\n",
       "      <th>addr</th>\n",
       "      <th>city</th>\n",
       "      <th>phone</th>\n",
       "      <th>type</th>\n",
       "    </tr>\n",
       "  </thead>\n",
       "  <tbody>\n",
       "    <tr>\n",
       "      <th>0</th>\n",
       "      <td>arnie morton s of chicago</td>\n",
       "      <td>435 s. la cienega blv.</td>\n",
       "      <td>los angeles</td>\n",
       "      <td>310/246-1501</td>\n",
       "      <td>american</td>\n",
       "    </tr>\n",
       "    <tr>\n",
       "      <th>1</th>\n",
       "      <td>arnie morton s of chicago</td>\n",
       "      <td>435 s. la cienega blvd.</td>\n",
       "      <td>los angeles</td>\n",
       "      <td>310-246-1501</td>\n",
       "      <td>steakhouses</td>\n",
       "    </tr>\n",
       "    <tr>\n",
       "      <th>2</th>\n",
       "      <td>arnie morton</td>\n",
       "      <td>435 s. la cienega boulevard</td>\n",
       "      <td>los angeles</td>\n",
       "      <td>310-246-1501</td>\n",
       "      <td>steakhouses</td>\n",
       "    </tr>\n",
       "    <tr>\n",
       "      <th>3</th>\n",
       "      <td>art s delicatessen</td>\n",
       "      <td>12224 ventura blvd.</td>\n",
       "      <td>studio city</td>\n",
       "      <td>818/762-1221</td>\n",
       "      <td>american</td>\n",
       "    </tr>\n",
       "    <tr>\n",
       "      <th>4</th>\n",
       "      <td>art s deli</td>\n",
       "      <td>12224 ventura blvd.</td>\n",
       "      <td>studio city</td>\n",
       "      <td>818-762-1221</td>\n",
       "      <td>delis</td>\n",
       "    </tr>\n",
       "  </tbody>\n",
       "</table>\n",
       "</div>"
      ],
      "text/plain": [
       "                        name                         addr         city  \\\n",
       "0  arnie morton s of chicago       435 s. la cienega blv.  los angeles   \n",
       "1  arnie morton s of chicago      435 s. la cienega blvd.  los angeles   \n",
       "2               arnie morton  435 s. la cienega boulevard  los angeles   \n",
       "3         art s delicatessen          12224 ventura blvd.  studio city   \n",
       "4                 art s deli          12224 ventura blvd.  studio city   \n",
       "\n",
       "          phone         type  \n",
       "0  310/246-1501     american  \n",
       "1  310-246-1501  steakhouses  \n",
       "2  310-246-1501  steakhouses  \n",
       "3  818/762-1221     american  \n",
       "4  818-762-1221        delis  "
      ]
     },
     "execution_count": 8,
     "metadata": {},
     "output_type": "execute_result"
    }
   ],
   "source": [
    "import re\n",
    "print(\"Remove irrelevant separators:\")\n",
    "irrelevant_regex = re.compile(r'[^a-z0-9\\s]')\n",
    "\n",
    "\n",
    "print(\"Remove multi-spaces:\")\n",
    "multispace_regex = re.compile(r'\\s\\s+')\n",
    "\n",
    "def assign_no_symbols_name(df):\n",
    "    return df.assign(\n",
    "        name=df['name']\n",
    "             .str.replace(irrelevant_regex, ' ')\n",
    "             .str.replace(multispace_regex, ' '))\n",
    "\n",
    "df = assign_no_symbols_name(df)\n",
    "df.head()"
   ]
  },
  {
   "cell_type": "markdown",
   "metadata": {},
   "source": [
    "### Análise de stopwords"
   ]
  },
  {
   "cell_type": "code",
   "execution_count": 9,
   "metadata": {},
   "outputs": [
    {
     "name": "stdout",
     "output_type": "stream",
     "text": [
      "[('s', 184),\n",
      " ('cafe', 81),\n",
      " ('the', 39),\n",
      " ('grill', 32),\n",
      " ('restaurant', 26),\n",
      " ('la', 24),\n",
      " ('le', 20),\n",
      " ('house', 20),\n",
      " ('bar', 19),\n",
      " ('of', 15),\n",
      " ('bistro', 13),\n",
      " ('room', 11),\n",
      " ('kitchen', 10),\n",
      " ('deli', 9),\n",
      " ('club', 9),\n",
      " ('and', 9),\n",
      " ('ritz', 9),\n",
      " ('carlton', 9),\n",
      " ('on', 8),\n",
      " ('buckhead', 8)]\n"
     ]
    }
   ],
   "source": [
    "import pprint\n",
    "from collections import Counter\n",
    "\n",
    "possible_stopwords = Counter(\" \".join(df[\"name\"]).split()).most_common(20)\n",
    "pprint.pprint(possible_stopwords)"
   ]
  },
  {
   "cell_type": "markdown",
   "metadata": {},
   "source": [
    "### Removendo possíveis stop words"
   ]
  },
  {
   "cell_type": "code",
   "execution_count": 10,
   "metadata": {},
   "outputs": [
    {
     "data": {
      "text/html": [
       "<div>\n",
       "<style scoped>\n",
       "    .dataframe tbody tr th:only-of-type {\n",
       "        vertical-align: middle;\n",
       "    }\n",
       "\n",
       "    .dataframe tbody tr th {\n",
       "        vertical-align: top;\n",
       "    }\n",
       "\n",
       "    .dataframe thead th {\n",
       "        text-align: right;\n",
       "    }\n",
       "</style>\n",
       "<table border=\"1\" class=\"dataframe\">\n",
       "  <thead>\n",
       "    <tr style=\"text-align: right;\">\n",
       "      <th></th>\n",
       "      <th>name</th>\n",
       "      <th>addr</th>\n",
       "      <th>city</th>\n",
       "      <th>phone</th>\n",
       "      <th>type</th>\n",
       "    </tr>\n",
       "  </thead>\n",
       "  <tbody>\n",
       "    <tr>\n",
       "      <th>0</th>\n",
       "      <td>arnie morton chicago</td>\n",
       "      <td>435 s. la cienega blv.</td>\n",
       "      <td>los angeles</td>\n",
       "      <td>310/246-1501</td>\n",
       "      <td>american</td>\n",
       "    </tr>\n",
       "    <tr>\n",
       "      <th>1</th>\n",
       "      <td>arnie morton chicago</td>\n",
       "      <td>435 s. la cienega blvd.</td>\n",
       "      <td>los angeles</td>\n",
       "      <td>310-246-1501</td>\n",
       "      <td>steakhouses</td>\n",
       "    </tr>\n",
       "    <tr>\n",
       "      <th>2</th>\n",
       "      <td>arnie morton</td>\n",
       "      <td>435 s. la cienega boulevard</td>\n",
       "      <td>los angeles</td>\n",
       "      <td>310-246-1501</td>\n",
       "      <td>steakhouses</td>\n",
       "    </tr>\n",
       "    <tr>\n",
       "      <th>3</th>\n",
       "      <td>art delicatessen</td>\n",
       "      <td>12224 ventura blvd.</td>\n",
       "      <td>studio city</td>\n",
       "      <td>818/762-1221</td>\n",
       "      <td>american</td>\n",
       "    </tr>\n",
       "    <tr>\n",
       "      <th>4</th>\n",
       "      <td>art deli</td>\n",
       "      <td>12224 ventura blvd.</td>\n",
       "      <td>studio city</td>\n",
       "      <td>818-762-1221</td>\n",
       "      <td>delis</td>\n",
       "    </tr>\n",
       "  </tbody>\n",
       "</table>\n",
       "</div>"
      ],
      "text/plain": [
       "                   name                         addr         city  \\\n",
       "0  arnie morton chicago       435 s. la cienega blv.  los angeles   \n",
       "1  arnie morton chicago      435 s. la cienega blvd.  los angeles   \n",
       "2          arnie morton  435 s. la cienega boulevard  los angeles   \n",
       "3      art delicatessen          12224 ventura blvd.  studio city   \n",
       "4              art deli          12224 ventura blvd.  studio city   \n",
       "\n",
       "          phone         type  \n",
       "0  310/246-1501     american  \n",
       "1  310-246-1501  steakhouses  \n",
       "2  310-246-1501  steakhouses  \n",
       "3  818/762-1221     american  \n",
       "4  818-762-1221        delis  "
      ]
     },
     "execution_count": 10,
     "metadata": {},
     "output_type": "execute_result"
    }
   ],
   "source": [
    "def assign_cleaned_name(df):\n",
    "    restaurant_stopwords = {\n",
    "        's', 'the', 'la', 'le', 'of', 'and', 'on'}\n",
    "    restaurant_stopwords_regex = r'\\b(?:{})\\b'.format(\n",
    "        '|'.join(restaurant_stopwords))\n",
    "    return df.assign(\n",
    "        name=df['name']\n",
    "             .str.replace(restaurant_stopwords_regex, '')\n",
    "             .str.replace(multispace_regex, ' ')\n",
    "             .str.strip())\n",
    "\n",
    "df = assign_cleaned_name(df)\n",
    "df.head()"
   ]
  },
  {
   "cell_type": "markdown",
   "metadata": {},
   "source": [
    "# Passo 3: Aplicação do Dedupe"
   ]
  },
  {
   "cell_type": "markdown",
   "metadata": {},
   "source": [
    "## Usando o Dedupe"
   ]
  },
  {
   "cell_type": "markdown",
   "metadata": {},
   "source": [
    "- Active Learning Classification"
   ]
  },
  {
   "cell_type": "code",
   "execution_count": 11,
   "metadata": {},
   "outputs": [],
   "source": [
    "import logging; logging.disable(level=logging.NOTSET)"
   ]
  },
  {
   "cell_type": "code",
   "execution_count": 12,
   "metadata": {},
   "outputs": [],
   "source": [
    "fields = [\n",
    "    {\n",
    "        'field': 'name',\n",
    "        'variable name': 'name',\n",
    "        'type': 'ShortString',\n",
    "        'has missing': True\n",
    "    },\n",
    "    {\n",
    "        'field': 'addr',\n",
    "        'variable name': 'addr',\n",
    "        'type': 'String',\n",
    "    },\n",
    "    {\n",
    "        'field': 'city',\n",
    "        'variable name': 'city',\n",
    "        'type': 'ShortString',\n",
    "        'has missing': True\n",
    "    },\n",
    "    {\n",
    "        'field': 'type',\n",
    "        'variable name': 'type',\n",
    "        'type': 'ShortString',\n",
    "        'has missing': True\n",
    "    }\n",
    "    \n",
    "] "
   ]
  },
  {
   "cell_type": "markdown",
   "metadata": {},
   "source": [
    "Iniciando a instância ``Dedupe`` e salvando: "
   ]
  },
  {
   "cell_type": "code",
   "execution_count": 13,
   "metadata": {},
   "outputs": [
    {
     "name": "stderr",
     "output_type": "stream",
     "text": [
      "INFO:dedupe.api:((SimplePredicate: (commonTwoTokens, city), SimplePredicate: (wholeFieldPredicate, name)), (SimplePredicate: (wholeFieldPredicate, name), SimplePredicate: (wholeFieldPredicate, type)))\n"
     ]
    }
   ],
   "source": [
    "import os\n",
    "import dedupe\n",
    "settings_filename = 'dedupe-settings.pickle'\n",
    "if os.path.exists(settings_filename):\n",
    "    with open(settings_filename, 'rb') as sf:\n",
    "        deduper = dedupe.StaticDedupe(sf, num_cores=4)\n",
    "else:\n",
    "    deduper = dedupe.Dedupe(fields, num_cores=4)"
   ]
  },
  {
   "cell_type": "markdown",
   "metadata": {},
   "source": [
    " Adaptando o formato dos dados para o formato do ``Dedupe``."
   ]
  },
  {
   "cell_type": "code",
   "execution_count": 14,
   "metadata": {},
   "outputs": [],
   "source": [
    "data_for_dedupe = df.to_dict('index')\n",
    "for record in data_for_dedupe.values():\n",
    "    # Mudando  nans para None\n",
    "    for k, v in record.items():\n",
    "        if isinstance(v, float) and np.isnan(v):\n",
    "            record[k] = None"
   ]
  },
  {
   "cell_type": "markdown",
   "metadata": {},
   "source": [
    "Aqui estamos usando uma instância ``Dedupe`` que treinamos antes. \n",
    "Vamos verificar como foi a input/output do treinamento:"
   ]
  },
  {
   "cell_type": "code",
   "execution_count": 15,
   "metadata": {},
   "outputs": [
    {
     "name": "stdout",
     "output_type": "stream",
     "text": [
      "...\n"
     ]
    }
   ],
   "source": [
    "training_input_output = 'training-input-output.txt'\n",
    "if os.path.exists(training_input_output):\n",
    "    with open(training_input_output) as t:\n",
    "        txt = t.read()\n",
    "        print('\\n'.join(txt.split('\\n')[:114]))\n",
    "print('...')"
   ]
  },
  {
   "cell_type": "code",
   "execution_count": 16,
   "metadata": {},
   "outputs": [],
   "source": [
    "if not isinstance(deduper, dedupe.StaticDedupe):\n",
    "    deduper.sample(data_for_dedupe)\n",
    "    \n",
    "    training_filename = 'dedupe-slides-training.json'\n",
    "    if os.path.exists(training_filename):\n",
    "        with open(training_filename) as tf:\n",
    "            deduper.readTraining(tf)\n",
    "\n",
    "    dedupe.consoleLabel(deduper)\n",
    "    \n",
    "    with open(training_filename, 'w') as tf:\n",
    "        deduper.writeTraining(tf)\n",
    "    \n",
    "    deduper.train()\n",
    "    \n",
    "    with open(settings_filename, 'wb') as sf:\n",
    "        deduper.writeSettings(sf)"
   ]
  },
  {
   "cell_type": "markdown",
   "metadata": {},
   "source": [
    "Você pode verificar o treinamento completo em training-input-output.txt.\n",
    "\n",
    "Se você quiser treiná-lo, faça um rm dedupe-settings.pickle dedupe-slides-training.json e execute toda a sessão do Active Learning novamente."
   ]
  },
  {
   "cell_type": "markdown",
   "metadata": {},
   "source": [
    "Após o treinamento, podemos ver quais ``blocking predicates `` (regras de indexação) o Dedupe aprendeu com nossas informações de treinamento. \n",
    "É bom fazer isso para verificar se treinamos o suficiente:"
   ]
  },
  {
   "cell_type": "code",
   "execution_count": 17,
   "metadata": {},
   "outputs": [
    {
     "data": {
      "text/plain": [
       "((SimplePredicate: (commonTwoTokens, city),\n",
       "  SimplePredicate: (wholeFieldPredicate, name)),\n",
       " (SimplePredicate: (wholeFieldPredicate, name),\n",
       "  SimplePredicate: (wholeFieldPredicate, type)))"
      ]
     },
     "execution_count": 17,
     "metadata": {},
     "output_type": "execute_result"
    }
   ],
   "source": [
    "deduper.predicates"
   ]
  },
  {
   "cell_type": "code",
   "execution_count": 18,
   "metadata": {},
   "outputs": [
    {
     "data": {
      "text/plain": [
       "{ExistsPredicate: (Exists, city),\n",
       " ExistsPredicate: (Exists, name),\n",
       " ExistsPredicate: (Exists, type),\n",
       " LevenshteinCanopyPredicate: (1, addr),\n",
       " LevenshteinCanopyPredicate: (1, city),\n",
       " LevenshteinCanopyPredicate: (1, name),\n",
       " LevenshteinCanopyPredicate: (1, type),\n",
       " LevenshteinCanopyPredicate: (2, addr),\n",
       " LevenshteinCanopyPredicate: (2, city),\n",
       " LevenshteinCanopyPredicate: (2, name),\n",
       " LevenshteinCanopyPredicate: (2, type),\n",
       " LevenshteinCanopyPredicate: (3, addr),\n",
       " LevenshteinCanopyPredicate: (3, city),\n",
       " LevenshteinCanopyPredicate: (3, name),\n",
       " LevenshteinCanopyPredicate: (3, type),\n",
       " LevenshteinCanopyPredicate: (4, addr),\n",
       " LevenshteinCanopyPredicate: (4, city),\n",
       " LevenshteinCanopyPredicate: (4, name),\n",
       " LevenshteinCanopyPredicate: (4, type),\n",
       " SimplePredicate: (alphaNumericPredicate, addr),\n",
       " SimplePredicate: (alphaNumericPredicate, city),\n",
       " SimplePredicate: (alphaNumericPredicate, name),\n",
       " SimplePredicate: (alphaNumericPredicate, type),\n",
       " SimplePredicate: (commonFourGram, addr),\n",
       " SimplePredicate: (commonFourGram, city),\n",
       " SimplePredicate: (commonFourGram, name),\n",
       " SimplePredicate: (commonFourGram, type),\n",
       " SimplePredicate: (commonIntegerPredicate, addr),\n",
       " SimplePredicate: (commonIntegerPredicate, city),\n",
       " SimplePredicate: (commonIntegerPredicate, name),\n",
       " SimplePredicate: (commonIntegerPredicate, type),\n",
       " SimplePredicate: (commonSixGram, addr),\n",
       " SimplePredicate: (commonSixGram, city),\n",
       " SimplePredicate: (commonSixGram, name),\n",
       " SimplePredicate: (commonSixGram, type),\n",
       " SimplePredicate: (commonThreeTokens, addr),\n",
       " SimplePredicate: (commonThreeTokens, city),\n",
       " SimplePredicate: (commonThreeTokens, name),\n",
       " SimplePredicate: (commonThreeTokens, type),\n",
       " SimplePredicate: (commonTwoTokens, addr),\n",
       " SimplePredicate: (commonTwoTokens, city),\n",
       " SimplePredicate: (commonTwoTokens, name),\n",
       " SimplePredicate: (commonTwoTokens, type),\n",
       " SimplePredicate: (doubleMetaphone, addr),\n",
       " SimplePredicate: (doubleMetaphone, city),\n",
       " SimplePredicate: (doubleMetaphone, name),\n",
       " SimplePredicate: (doubleMetaphone, type),\n",
       " SimplePredicate: (fingerprint, addr),\n",
       " SimplePredicate: (fingerprint, city),\n",
       " SimplePredicate: (fingerprint, name),\n",
       " SimplePredicate: (fingerprint, type),\n",
       " SimplePredicate: (firstIntegerPredicate, addr),\n",
       " SimplePredicate: (firstIntegerPredicate, city),\n",
       " SimplePredicate: (firstIntegerPredicate, name),\n",
       " SimplePredicate: (firstIntegerPredicate, type),\n",
       " SimplePredicate: (firstTokenPredicate, addr),\n",
       " SimplePredicate: (firstTokenPredicate, city),\n",
       " SimplePredicate: (firstTokenPredicate, name),\n",
       " SimplePredicate: (firstTokenPredicate, type),\n",
       " SimplePredicate: (hundredIntegerPredicate, addr),\n",
       " SimplePredicate: (hundredIntegerPredicate, city),\n",
       " SimplePredicate: (hundredIntegerPredicate, name),\n",
       " SimplePredicate: (hundredIntegerPredicate, type),\n",
       " SimplePredicate: (hundredIntegersOddPredicate, addr),\n",
       " SimplePredicate: (hundredIntegersOddPredicate, city),\n",
       " SimplePredicate: (hundredIntegersOddPredicate, name),\n",
       " SimplePredicate: (hundredIntegersOddPredicate, type),\n",
       " SimplePredicate: (metaphoneToken, addr),\n",
       " SimplePredicate: (metaphoneToken, city),\n",
       " SimplePredicate: (metaphoneToken, name),\n",
       " SimplePredicate: (metaphoneToken, type),\n",
       " SimplePredicate: (nearIntegersPredicate, addr),\n",
       " SimplePredicate: (nearIntegersPredicate, city),\n",
       " SimplePredicate: (nearIntegersPredicate, name),\n",
       " SimplePredicate: (nearIntegersPredicate, type),\n",
       " SimplePredicate: (oneGramFingerprint, addr),\n",
       " SimplePredicate: (oneGramFingerprint, city),\n",
       " SimplePredicate: (oneGramFingerprint, name),\n",
       " SimplePredicate: (oneGramFingerprint, type),\n",
       " SimplePredicate: (sameFiveCharStartPredicate, addr),\n",
       " SimplePredicate: (sameFiveCharStartPredicate, city),\n",
       " SimplePredicate: (sameFiveCharStartPredicate, name),\n",
       " SimplePredicate: (sameFiveCharStartPredicate, type),\n",
       " SimplePredicate: (sameSevenCharStartPredicate, addr),\n",
       " SimplePredicate: (sameSevenCharStartPredicate, city),\n",
       " SimplePredicate: (sameSevenCharStartPredicate, name),\n",
       " SimplePredicate: (sameSevenCharStartPredicate, type),\n",
       " SimplePredicate: (sameThreeCharStartPredicate, addr),\n",
       " SimplePredicate: (sameThreeCharStartPredicate, city),\n",
       " SimplePredicate: (sameThreeCharStartPredicate, name),\n",
       " SimplePredicate: (sameThreeCharStartPredicate, type),\n",
       " SimplePredicate: (sortedAcronym, addr),\n",
       " SimplePredicate: (sortedAcronym, city),\n",
       " SimplePredicate: (sortedAcronym, name),\n",
       " SimplePredicate: (sortedAcronym, type),\n",
       " SimplePredicate: (suffixArray, addr),\n",
       " SimplePredicate: (suffixArray, city),\n",
       " SimplePredicate: (suffixArray, name),\n",
       " SimplePredicate: (suffixArray, type),\n",
       " SimplePredicate: (tokenFieldPredicate, addr),\n",
       " SimplePredicate: (tokenFieldPredicate, city),\n",
       " SimplePredicate: (tokenFieldPredicate, name),\n",
       " SimplePredicate: (tokenFieldPredicate, type),\n",
       " SimplePredicate: (twoGramFingerprint, addr),\n",
       " SimplePredicate: (twoGramFingerprint, city),\n",
       " SimplePredicate: (twoGramFingerprint, name),\n",
       " SimplePredicate: (twoGramFingerprint, type),\n",
       " SimplePredicate: (wholeFieldPredicate, addr),\n",
       " SimplePredicate: (wholeFieldPredicate, city),\n",
       " SimplePredicate: (wholeFieldPredicate, name),\n",
       " SimplePredicate: (wholeFieldPredicate, type),\n",
       " TfidfNGramCanopyPredicate: (0.2, addr),\n",
       " TfidfNGramCanopyPredicate: (0.2, city),\n",
       " TfidfNGramCanopyPredicate: (0.2, name),\n",
       " TfidfNGramCanopyPredicate: (0.2, type),\n",
       " TfidfNGramCanopyPredicate: (0.4, addr),\n",
       " TfidfNGramCanopyPredicate: (0.4, city),\n",
       " TfidfNGramCanopyPredicate: (0.4, name),\n",
       " TfidfNGramCanopyPredicate: (0.4, type),\n",
       " TfidfNGramCanopyPredicate: (0.6, addr),\n",
       " TfidfNGramCanopyPredicate: (0.6, city),\n",
       " TfidfNGramCanopyPredicate: (0.6, name),\n",
       " TfidfNGramCanopyPredicate: (0.6, type),\n",
       " TfidfNGramCanopyPredicate: (0.8, addr),\n",
       " TfidfNGramCanopyPredicate: (0.8, city),\n",
       " TfidfNGramCanopyPredicate: (0.8, name),\n",
       " TfidfNGramCanopyPredicate: (0.8, type),\n",
       " TfidfTextCanopyPredicate: (0.2, addr),\n",
       " TfidfTextCanopyPredicate: (0.4, addr),\n",
       " TfidfTextCanopyPredicate: (0.6, addr),\n",
       " TfidfTextCanopyPredicate: (0.8, addr)}"
      ]
     },
     "execution_count": 18,
     "metadata": {},
     "output_type": "execute_result"
    }
   ],
   "source": [
    "deduper.data_model.predicates()"
   ]
  },
  {
   "cell_type": "markdown",
   "metadata": {},
   "source": [
    "Para prosseguir com a deduplication, calculamos o ``clustering threshold``"
   ]
  },
  {
   "cell_type": "code",
   "execution_count": null,
   "metadata": {},
   "outputs": [
    {
     "name": "stderr",
     "output_type": "stream",
     "text": [
      "WARNING:dedupe.backport:Dedupe does not currently support multiprocessing on Windows\n"
     ]
    }
   ],
   "source": [
    "import itertools\n",
    "\n",
    "threshold = deduper.threshold(data_for_dedupe, recall_weight=1)\n",
    "clustered_dupes = deduper.match(data_for_dedupe, threshold)\n",
    "\n",
    "dedupe_found_pairs_set = set()\n",
    "for cluster, __ in clustered_dupes:  # we'll explain that later\n",
    "    for pair in itertools.combinations(cluster, 2):\n",
    "        dedupe_found_pairs_set.add(tuple(pair))"
   ]
  },
  {
   "cell_type": "markdown",
   "metadata": {},
   "source": [
    "### Exercício"
   ]
  },
  {
   "cell_type": "markdown",
   "metadata": {},
   "source": [
    "- **Passo 1**: Leitura\n",
    "- **Passo 2**: Limpeza dos dados\n",
    "- **Passo 3**: Aplicação do Dedupe para gerar clusters em um novo conjunto de dados"
   ]
  },
  {
   "cell_type": "markdown",
   "metadata": {},
   "source": [
    "# Passo 1"
   ]
  },
  {
   "cell_type": "markdown",
   "metadata": {},
   "source": [
    "# Leitura dos dados fake"
   ]
  },
  {
   "cell_type": "code",
   "execution_count": 3,
   "metadata": {},
   "outputs": [
    {
     "data": {
      "text/plain": [
       "(500, 7)"
      ]
     },
     "execution_count": 3,
     "metadata": {},
     "output_type": "execute_result"
    }
   ],
   "source": [
    "df_test =  pd.read_csv('MOCK_DATA.csv')\n",
    "df_test.shape"
   ]
  },
  {
   "cell_type": "code",
   "execution_count": 5,
   "metadata": {},
   "outputs": [
    {
     "data": {
      "text/html": [
       "<div>\n",
       "<style scoped>\n",
       "    .dataframe tbody tr th:only-of-type {\n",
       "        vertical-align: middle;\n",
       "    }\n",
       "\n",
       "    .dataframe tbody tr th {\n",
       "        vertical-align: top;\n",
       "    }\n",
       "\n",
       "    .dataframe thead th {\n",
       "        text-align: right;\n",
       "    }\n",
       "</style>\n",
       "<table border=\"1\" class=\"dataframe\">\n",
       "  <thead>\n",
       "    <tr style=\"text-align: right;\">\n",
       "      <th></th>\n",
       "      <th>id</th>\n",
       "      <th>first_name</th>\n",
       "      <th>last_name</th>\n",
       "      <th>email</th>\n",
       "      <th>product</th>\n",
       "      <th>Fraud</th>\n",
       "      <th>price</th>\n",
       "    </tr>\n",
       "  </thead>\n",
       "  <tbody>\n",
       "    <tr>\n",
       "      <th>0</th>\n",
       "      <td>1</td>\n",
       "      <td>Gan</td>\n",
       "      <td>Renachowski</td>\n",
       "      <td>grenachowski0@ifeng.com</td>\n",
       "      <td>Plate - Foam, Bread And Butter</td>\n",
       "      <td>True</td>\n",
       "      <td>$775.18</td>\n",
       "    </tr>\n",
       "    <tr>\n",
       "      <th>1</th>\n",
       "      <td>2</td>\n",
       "      <td>Deane</td>\n",
       "      <td>Telford</td>\n",
       "      <td>dtelford1@about.me</td>\n",
       "      <td>Ecolab Silver Fusion</td>\n",
       "      <td>True</td>\n",
       "      <td>$461.56</td>\n",
       "    </tr>\n",
       "    <tr>\n",
       "      <th>2</th>\n",
       "      <td>3</td>\n",
       "      <td>Clarice</td>\n",
       "      <td>Bleby</td>\n",
       "      <td>cbleby2@dedecms.com</td>\n",
       "      <td>Pepper - Chilli Seeds Mild</td>\n",
       "      <td>False</td>\n",
       "      <td>$482.56</td>\n",
       "    </tr>\n",
       "    <tr>\n",
       "      <th>3</th>\n",
       "      <td>4</td>\n",
       "      <td>Berri</td>\n",
       "      <td>Dovington</td>\n",
       "      <td>bdovington3@mac.com</td>\n",
       "      <td>Cheese - Camembert</td>\n",
       "      <td>False</td>\n",
       "      <td>$799.53</td>\n",
       "    </tr>\n",
       "    <tr>\n",
       "      <th>4</th>\n",
       "      <td>5</td>\n",
       "      <td>Jacinda</td>\n",
       "      <td>NaN</td>\n",
       "      <td>jfigin4@wiley.com</td>\n",
       "      <td>Beef - Tender Tips</td>\n",
       "      <td>True</td>\n",
       "      <td>$867.33</td>\n",
       "    </tr>\n",
       "  </tbody>\n",
       "</table>\n",
       "</div>"
      ],
      "text/plain": [
       "   id first_name    last_name                    email  \\\n",
       "0   1        Gan  Renachowski  grenachowski0@ifeng.com   \n",
       "1   2      Deane      Telford       dtelford1@about.me   \n",
       "2   3    Clarice        Bleby      cbleby2@dedecms.com   \n",
       "3   4      Berri    Dovington      bdovington3@mac.com   \n",
       "4   5    Jacinda          NaN        jfigin4@wiley.com   \n",
       "\n",
       "                          product  Fraud    price  \n",
       "0  Plate - Foam, Bread And Butter   True  $775.18  \n",
       "1            Ecolab Silver Fusion   True  $461.56  \n",
       "2      Pepper - Chilli Seeds Mild  False  $482.56  \n",
       "3              Cheese - Camembert  False  $799.53  \n",
       "4              Beef - Tender Tips   True  $867.33  "
      ]
     },
     "execution_count": 5,
     "metadata": {},
     "output_type": "execute_result"
    }
   ],
   "source": [
    "df_test.head()"
   ]
  },
  {
   "cell_type": "code",
   "execution_count": 6,
   "metadata": {},
   "outputs": [
    {
     "data": {
      "text/plain": [
       "True     268\n",
       "False    232\n",
       "Name: Fraud, dtype: int64"
      ]
     },
     "execution_count": 6,
     "metadata": {},
     "output_type": "execute_result"
    }
   ],
   "source": [
    "df_test.Fraud.value_counts()"
   ]
  },
  {
   "cell_type": "code",
   "execution_count": null,
   "metadata": {},
   "outputs": [],
   "source": []
  },
  {
   "cell_type": "code",
   "execution_count": null,
   "metadata": {},
   "outputs": [],
   "source": []
  },
  {
   "cell_type": "markdown",
   "metadata": {},
   "source": [
    "# Passo 2"
   ]
  },
  {
   "cell_type": "markdown",
   "metadata": {},
   "source": [
    "# Limpeza dos dados fake"
   ]
  },
  {
   "cell_type": "code",
   "execution_count": null,
   "metadata": {},
   "outputs": [],
   "source": []
  },
  {
   "cell_type": "markdown",
   "metadata": {},
   "source": [
    "# Passo 3"
   ]
  },
  {
   "cell_type": "markdown",
   "metadata": {},
   "source": [
    "##### Aplicação do dedupe nos dados Fake.\n",
    "###### - Gere clusters dos clientes"
   ]
  },
  {
   "cell_type": "code",
   "execution_count": null,
   "metadata": {},
   "outputs": [],
   "source": []
  },
  {
   "cell_type": "code",
   "execution_count": null,
   "metadata": {},
   "outputs": [],
   "source": []
  },
  {
   "cell_type": "code",
   "execution_count": null,
   "metadata": {},
   "outputs": [],
   "source": []
  },
  {
   "cell_type": "markdown",
   "metadata": {},
   "source": [
    "### Referências:\n",
    "    \n",
    "-    https://www.cs.utexas.edu/users/ml/riddle/data.html\n",
    "-    https://github.com/vintasoftware/deduplication-slides       "
   ]
  },
  {
   "cell_type": "markdown",
   "metadata": {},
   "source": [
    "# Final"
   ]
  }
 ],
 "metadata": {
  "kernelspec": {
   "display_name": "Python 3",
   "language": "python",
   "name": "python3"
  },
  "language_info": {
   "codemirror_mode": {
    "name": "ipython",
    "version": 3
   },
   "file_extension": ".py",
   "mimetype": "text/x-python",
   "name": "python",
   "nbconvert_exporter": "python",
   "pygments_lexer": "ipython3",
   "version": "3.7.1"
  }
 },
 "nbformat": 4,
 "nbformat_minor": 2
}
